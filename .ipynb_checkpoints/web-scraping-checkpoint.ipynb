{
 "cells": [
  {
   "cell_type": "code",
   "execution_count": 124,
   "id": "f324c782",
   "metadata": {},
   "outputs": [],
   "source": [
    "from bs4 import BeautifulSoup\n",
    "import requests"
   ]
  },
  {
   "cell_type": "code",
   "execution_count": 132,
   "id": "9b213855",
   "metadata": {},
   "outputs": [],
   "source": [
    "def topicInformation(url):\n",
    "    topicInfo = ''\n",
    "    topRepos = []\n",
    "    \n",
    "    result = requests.get(url)\n",
    "    doc = BeautifulSoup(result.text, 'html.parser')\n",
    "    topicInfo = doc.find('p').string\n",
    "    articles = doc.find_all('article')\n",
    "    \n",
    "    for article in articles:\n",
    "        repo = {}\n",
    "        h3Tag = article.find('h3')\n",
    "        \n",
    "        if h3Tag != None: \n",
    "            linkTag = h3Tag.find_all('a')[1]\n",
    "\n",
    "            repoName = linkTag.string\n",
    "            repoName = repoName.split('\\n')[1].replace(\" \", \"\")\n",
    "            \n",
    "            repo['name'] = repoName\n",
    "            repo['link'] = 'https://github.com'+linkTag['href']\n",
    "            \n",
    "        if repo != {}:\n",
    "            topRepos.append(repo)\n",
    "            \n",
    "    return topicInfo, topRepos"
   ]
  },
  {
   "cell_type": "code",
   "execution_count": 131,
   "id": "4a33f57d",
   "metadata": {},
   "outputs": [
    {
     "name": "stdout",
     "output_type": "stream",
     "text": [
      "3D      1\n",
      "Ajax      2\n",
      "Algorithm      3\n",
      "Amp      4\n",
      "Android      5\n",
      "Angular      6\n",
      "Ansible      7\n",
      "API      8\n",
      "Arduino      9\n",
      "ASP.NET      10\n",
      "Choose the topic by entering the number written beside them4\n",
      "3D modeling uses specialized software to create a digital model of a physical object. It is an aspect of 3D computer graphics, used for video games, 3D printing, and VR, among other applications.\n",
      "\n",
      "{'name': 'three.js', 'link': 'https://github.com/mrdoob/three.js'}\n",
      "{'name': 'libgdx', 'link': 'https://github.com/libgdx/libgdx'}\n",
      "{'name': 'react-three-fiber', 'link': 'https://github.com/pmndrs/react-three-fiber'}\n",
      "{'name': 'Babylon.js', 'link': 'https://github.com/BabylonJS/Babylon.js'}\n",
      "{'name': 'aframe', 'link': 'https://github.com/aframevr/aframe'}\n",
      "{'name': '3d-game-shaders-for-beginners', 'link': 'https://github.com/lettier/3d-game-shaders-for-beginners'}\n",
      "{'name': 'tinyrenderer', 'link': 'https://github.com/ssloy/tinyrenderer'}\n",
      "{'name': 'FreeCAD', 'link': 'https://github.com/FreeCAD/FreeCAD'}\n",
      "{'name': 'zdog', 'link': 'https://github.com/metafizzy/zdog'}\n",
      "{'name': 'cesium', 'link': 'https://github.com/CesiumGS/cesium'}\n",
      "{'name': '3D-Machine-Learning', 'link': 'https://github.com/timzhang642/3D-Machine-Learning'}\n",
      "{'name': 'SpaceshipGenerator', 'link': 'https://github.com/a1studmuffin/SpaceshipGenerator'}\n",
      "{'name': 'Open3D', 'link': 'https://github.com/isl-org/Open3D'}\n",
      "{'name': 'blender', 'link': 'https://github.com/blender/blender'}\n",
      "{'name': 'BlenderGIS', 'link': 'https://github.com/domlysz/BlenderGIS'}\n",
      "{'name': 'spritejs', 'link': 'https://github.com/spritejs/spritejs'}\n",
      "{'name': 'openscad', 'link': 'https://github.com/openscad/openscad'}\n",
      "{'name': 'tensorspace', 'link': 'https://github.com/tensorspace-team/tensorspace'}\n",
      "{'name': 'webglstudio.js', 'link': 'https://github.com/jagenjo/webglstudio.js'}\n",
      "{'name': 'PRNet', 'link': 'https://github.com/YadiraF/PRNet'}\n",
      "{'name': 'vrn', 'link': 'https://github.com/AaronJackson/vrn'}\n",
      "{'name': 'model-viewer', 'link': 'https://github.com/google/model-viewer'}\n",
      "{'name': 'tinyraytracer', 'link': 'https://github.com/ssloy/tinyraytracer'}\n",
      "{'name': 'magnum', 'link': 'https://github.com/mosra/magnum'}\n",
      "{'name': 'webgl-fundamentals', 'link': 'https://github.com/gfxfundamentals/webgl-fundamentals'}\n",
      "{'name': 'Fyrox', 'link': 'https://github.com/FyroxEngine/Fyrox'}\n",
      "{'name': 'vanta', 'link': 'https://github.com/tengbao/vanta'}\n",
      "{'name': '3DDFA', 'link': 'https://github.com/cleardusk/3DDFA'}\n",
      "{'name': 'isometric-contributions', 'link': 'https://github.com/jasonlong/isometric-contributions'}\n",
      "{'name': 'meshlab', 'link': 'https://github.com/cnr-isti-vclab/meshlab'}\n"
     ]
    }
   ],
   "source": [
    "url = 'https://github.com/topics'\n",
    "result = requests.get(url)\n",
    "doc = BeautifulSoup(result.text, 'html.parser')\n",
    "\n",
    "articles = doc.find_all(class_=\"py-4 border-bottom d-flex flex-justify-between\")[:10]\n",
    "topics = []\n",
    "topicsURL = []\n",
    "\n",
    "for article in articles:\n",
    "    linkTag = article.find('a')\n",
    "    topicURL = linkTag['href']\n",
    "    topicsURL.append(f'https://github.com{topicURL}')\n",
    "    \n",
    "    topics.append(article.find('p').string)\n",
    "    \n",
    "for i in range(0, len(topics)):\n",
    "    print(f'{topics[i]}      {i+1}')\n",
    "\n",
    "userTopic = int(input('Choose the topic by entering the number written beside them'))\n",
    "\n",
    "\n",
    "topicInfo, topRepos = topicInformation(topicsURL[userTopic - 1])\n",
    "print()\n",
    "print(topicInfo)\n",
    "print()\n",
    "for topRepo in topRepos:\n",
    "    print(topRepo)\n"
   ]
  },
  {
   "cell_type": "code",
   "execution_count": null,
   "id": "4753c780",
   "metadata": {},
   "outputs": [],
   "source": []
  }
 ],
 "metadata": {
  "kernelspec": {
   "display_name": "Python 3 (ipykernel)",
   "language": "python",
   "name": "python3"
  },
  "language_info": {
   "codemirror_mode": {
    "name": "ipython",
    "version": 3
   },
   "file_extension": ".py",
   "mimetype": "text/x-python",
   "name": "python",
   "nbconvert_exporter": "python",
   "pygments_lexer": "ipython3",
   "version": "3.10.2"
  }
 },
 "nbformat": 4,
 "nbformat_minor": 5
}
