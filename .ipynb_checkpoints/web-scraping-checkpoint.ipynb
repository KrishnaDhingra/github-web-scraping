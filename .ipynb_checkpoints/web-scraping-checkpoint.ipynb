{
 "cells": [
  {
   "cell_type": "code",
   "execution_count": 2,
   "id": "60b0011a",
   "metadata": {},
   "outputs": [],
   "source": [
    "from bs4 import BeautifulSoup\n",
    "import requests"
   ]
  },
  {
   "cell_type": "code",
   "execution_count": null,
   "id": "2142d743",
   "metadata": {},
   "outputs": [],
   "source": [
    "def getTopics():\n",
    "    for article in articles:\n",
    "    linkTag = article.find('a')\n",
    "    topicURL = linkTag['href']\n",
    "    topicsURL.append(f'https://github.com{topicURL}')\n",
    "    \n",
    "    topics.append(article.find('p').string)"
   ]
  },
  {
   "cell_type": "code",
   "execution_count": 54,
   "id": "4801cc8b",
   "metadata": {},
   "outputs": [
    {
     "name": "stdout",
     "output_type": "stream",
     "text": [
      "3D      1\n",
      "Ajax      2\n",
      "Algorithm      3\n",
      "Amp      4\n",
      "Android      5\n",
      "Angular      6\n",
      "Ansible      7\n",
      "API      8\n",
      "Arduino      9\n",
      "ASP.NET      10\n",
      "Choose the topic by entering the number written beside them4\n",
      "https://github.com/topics/amphp\n"
     ]
    }
   ],
   "source": [
    "url = 'https://github.com/topics'\n",
    "result = requests.get(url)\n",
    "doc = BeautifulSoup(result.text, 'html.parser')\n",
    "\n",
    "articles = doc.find_all(class_=\"py-4 border-bottom d-flex flex-justify-between\")[:10]\n",
    "topics = []\n",
    "topicsURL = []\n",
    "\n",
    "getTopics()\n",
    "    \n",
    "for i in range(0, len(topics)):\n",
    "    print(f'{topics[i]}      {i+1}')\n",
    "\n",
    "userTopic = int(input('Choose the topic by entering the number written beside them'))\n",
    "print(topicsURL[userTopic - 1])\n",
    "\n",
    "    \n",
    "\n"
   ]
  },
  {
   "cell_type": "code",
   "execution_count": null,
   "id": "9bd88ad6",
   "metadata": {},
   "outputs": [],
   "source": []
  }
 ],
 "metadata": {
  "kernelspec": {
   "display_name": "Python 3 (ipykernel)",
   "language": "python",
   "name": "python3"
  },
  "language_info": {
   "codemirror_mode": {
    "name": "ipython",
    "version": 3
   },
   "file_extension": ".py",
   "mimetype": "text/x-python",
   "name": "python",
   "nbconvert_exporter": "python",
   "pygments_lexer": "ipython3",
   "version": "3.10.2"
  }
 },
 "nbformat": 4,
 "nbformat_minor": 5
}
